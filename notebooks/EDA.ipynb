{
 "cells": [
  {
   "cell_type": "markdown",
   "id": "06df530b",
   "metadata": {},
   "source": [
    "# EDA (Exploratory Data Analysis)"
   ]
  },
  {
   "cell_type": "code",
   "execution_count": 6,
   "id": "41a88df8",
   "metadata": {},
   "outputs": [],
   "source": [
    "import pandas as pd\n",
    "from sklearn.preprocessing import LabelEncoder"
   ]
  },
  {
   "cell_type": "code",
   "execution_count": 7,
   "id": "fa5345a5",
   "metadata": {},
   "outputs": [
    {
     "name": "stdout",
     "output_type": "stream",
     "text": [
      "PassengerId      0\n",
      "Survived         0\n",
      "Pclass           0\n",
      "Name             0\n",
      "Sex              0\n",
      "Age            177\n",
      "SibSp            0\n",
      "Parch            0\n",
      "Ticket           0\n",
      "Fare             0\n",
      "Cabin          687\n",
      "Embarked         2\n",
      "dtype: int64\n"
     ]
    }
   ],
   "source": [
    "train_df = pd.read_csv(\"../datasets/train.csv\")\n",
    "\n",
    "# Check for missing values\n",
    "print(train_df.isnull().sum())"
   ]
  },
  {
   "cell_type": "markdown",
   "id": "a3309e65",
   "metadata": {},
   "source": [
    "### Select Features\n",
    "\n",
    "- Dropped `PassengerId` and `Ticket` because they likely don’t provide predictive value for the model.  \n",
    "- Dropped `Cabin` due to a large number of missing values.  \n",
    "- Kept features that are likely informative: `Pclass`, `Sex`, `Age`, `SibSp`, `Parch`, `Fare`, `Embarked`, and derived `Title` from the Name column.\n"
   ]
  },
  {
   "cell_type": "code",
   "execution_count": null,
   "id": "d8b4b3b0",
   "metadata": {},
   "outputs": [],
   "source": [
    "# Fill missing values in \"Age\" with the median for simplicity\n",
    "train_df[\"Age\"] = train_df[\"Age\"].fillna(train_df[\"Age\"].median())\n",
    "\n",
    "# Extract title (e.g., Mr, Mrs, Miss) from \"Name\" for feature engineering\n",
    "train_df[\"Title\"] = train_df[\"Name\"].str.extract(r\",\\s*([^\\.]+)\\.\")\n",
    "\n",
    "# Group rare or variant titles to reduce category cardinality\n",
    "train_df[\"Title\"] = train_df[\"Title\"].replace(\n",
    "    [\"Mlle\", \"Ms\"], \"Miss\"\n",
    ").replace([\"Mme\"], \"Mrs\"\n",
    ").replace(\n",
    "    [\"Lady\", \"Countess\", \"Capt\", \"Col\", \"Don\", \"Dr\", \"Major\", \"Rev\", \"Sir\", \"Jonkheer\", \"Dona\"], \n",
    "    \"Rare\"\n",
    ")\n",
    "\n",
    "# Select features for modeling, including one-hot encoded \"Title\" columns\n",
    "X = train_df[[\"Pclass\", \"Sex\", \"Age\", \"SibSp\", \"Parch\", \"Fare\", \"Embarked\"] + \n",
    "             [col for col in train_df.columns if col.startswith(\"Title_\")]].copy()\n",
    "\n",
    "# Encode \"Sex\" as numeric (0 = female, 1 = male)\n",
    "le = LabelEncoder()\n",
    "X[\"Sex\"] = le.fit_transform(X[\"Sex\"])\n",
    "\n",
    "# One-hot encode \"Embarked\" (drop_first=True to avoid multicollinearity)\n",
    "X = pd.get_dummies(X, columns=[\"Embarked\"], drop_first=True)\n",
    "\n",
    "# Convert features and target to NumPy arrays for sklearn\n",
    "X = X.values\n",
    "y = train_df[\"Survived\"].values\n"
   ]
  },
  {
   "cell_type": "markdown",
   "id": "e4cfc20e",
   "metadata": {},
   "source": [
    "### Reveal shape of first examples"
   ]
  },
  {
   "cell_type": "code",
   "execution_count": 31,
   "id": "12a6a42a",
   "metadata": {},
   "outputs": [
    {
     "name": "stdout",
     "output_type": "stream",
     "text": [
      "shapes: \n",
      " X -> (891, 14), y -> (891,)\n",
      "\n",
      "examples: \n",
      "[[3 1 22.0 1 0 7.25 False True False False True False False False]\n",
      " [1 0 38.0 1 0 71.2833 False False False False False True False False]\n",
      " [3 0 26.0 0 0 7.925 False True False True False False False False]\n",
      " [1 0 35.0 1 0 53.1 False True False False False True False False]\n",
      " [3 1 35.0 0 0 8.05 False True False False True False False False]]\n",
      "\n",
      "targets: \n",
      "[0 1 1 1 0]\n"
     ]
    }
   ],
   "source": [
    "# Reveal shape and first few examples\n",
    "print(f\"shapes: \\n X -> {X.shape}, y -> {y.shape}\")\n",
    "print(f\"\\nexamples: \\n{X[:5]}\")\n",
    "print(f\"\\ntargets: \\n{y[:5]}\")"
   ]
  }
 ],
 "metadata": {
  "kernelspec": {
   "display_name": "venv",
   "language": "python",
   "name": "python3"
  },
  "language_info": {
   "codemirror_mode": {
    "name": "ipython",
    "version": 3
   },
   "file_extension": ".py",
   "mimetype": "text/x-python",
   "name": "python",
   "nbconvert_exporter": "python",
   "pygments_lexer": "ipython3",
   "version": "3.11.0"
  }
 },
 "nbformat": 4,
 "nbformat_minor": 5
}
