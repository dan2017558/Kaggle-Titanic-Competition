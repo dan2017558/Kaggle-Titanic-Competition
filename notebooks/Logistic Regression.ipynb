{
 "cells": [
  {
   "cell_type": "markdown",
   "id": "80b116b3",
   "metadata": {},
   "source": [
    "# Logistic Regression Model"
   ]
  },
  {
   "cell_type": "markdown",
   "id": "1b73de95",
   "metadata": {},
   "source": [
    "### Import Libraries"
   ]
  },
  {
   "cell_type": "code",
   "execution_count": 1,
   "id": "d9846607",
   "metadata": {},
   "outputs": [],
   "source": [
    "import pandas as pd\n",
    "from sklearn.model_selection import train_test_split\n",
    "from sklearn.linear_model import LogisticRegression\n",
    "from sklearn.metrics import accuracy_score"
   ]
  },
  {
   "cell_type": "markdown",
   "id": "5c7410cd",
   "metadata": {},
   "source": [
    "### Load Dataset"
   ]
  },
  {
   "cell_type": "code",
   "execution_count": 2,
   "id": "38259226",
   "metadata": {},
   "outputs": [],
   "source": [
    "# Load dataset\n",
    "df = pd.read_csv(\"titanic_features.csv\")\n",
    "\n",
    "# Separate target (y) and features (X)\n",
    "y = df[\"Survived\"]   # target column\n",
    "X = df.drop(columns=[\"Survived\"])   # all other columns are features"
   ]
  },
  {
   "cell_type": "markdown",
   "id": "5a02d6ba",
   "metadata": {},
   "source": [
    "### Split Dataset (Train and Cross-validation)"
   ]
  },
  {
   "cell_type": "code",
   "execution_count": 3,
   "id": "75419c99",
   "metadata": {},
   "outputs": [
    {
     "name": "stdout",
     "output_type": "stream",
     "text": [
      "Train set size: 712\n",
      "CV set size: 179\n"
     ]
    }
   ],
   "source": [
    "# Split into 80% train and 20% CV\n",
    "X_train, X_cv, y_train, y_cv = train_test_split(\n",
    "    X, y, test_size=0.2, random_state=42, stratify=y\n",
    ")\n",
    "\n",
    "print(\"Train set size:\", X_train.shape[0])\n",
    "print(\"CV set size:\", X_cv.shape[0])"
   ]
  }
 ],
 "metadata": {
  "kernelspec": {
   "display_name": "venv",
   "language": "python",
   "name": "python3"
  },
  "language_info": {
   "codemirror_mode": {
    "name": "ipython",
    "version": 3
   },
   "file_extension": ".py",
   "mimetype": "text/x-python",
   "name": "python",
   "nbconvert_exporter": "python",
   "pygments_lexer": "ipython3",
   "version": "3.11.0"
  }
 },
 "nbformat": 4,
 "nbformat_minor": 5
}
